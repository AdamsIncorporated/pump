{
 "cells": [
  {
   "cell_type": "code",
   "execution_count": null,
   "id": "e3b29846",
   "metadata": {},
   "outputs": [
    {
     "name": "stdout",
     "output_type": "stream",
     "text": [
      "400\n",
      "\"Payload must contain 'data' key.\"\n"
     ]
    }
   ],
   "source": [
    "import requests\n",
    "import json\n",
    "\n",
    "# Define the JSON payload\n",
    "json_data = {\n",
    "    \"table_name\": \"lift\",\n",
    "    \"rows\": [{\"exercise\": \"Squats\", \"sets\": 3, \"reps\": 8, \"weight_lbs\": 185.0}],\n",
    "}\n",
    "\n",
    "# Set the URL for the POST request\n",
    "url = \"http://localhost:5000/create\"\n",
    "\n",
    "# Send the POST request\n",
    "response = requests.post(url, json=json_data)\n",
    "\n",
    "# Print the response from the server\n",
    "print(response.status_code)\n",
    "print(response.text)"
   ]
  }
 ],
 "metadata": {
  "kernelspec": {
   "display_name": "Python 3",
   "language": "python",
   "name": "python3"
  },
  "language_info": {
   "codemirror_mode": {
    "name": "ipython",
    "version": 3
   },
   "file_extension": ".py",
   "mimetype": "text/x-python",
   "name": "python",
   "nbconvert_exporter": "python",
   "pygments_lexer": "ipython3",
   "version": "3.12.2"
  }
 },
 "nbformat": 4,
 "nbformat_minor": 5
}
